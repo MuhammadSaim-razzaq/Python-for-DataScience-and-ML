{
 "cells": [
  {
   "cell_type": "markdown",
   "id": "52d47d7d-a9f8-4e67-8b1f-180f0c2d7621",
   "metadata": {},
   "source": [
    "# Python Basics"
   ]
  },
  {
   "cell_type": "markdown",
   "id": "938c050b-0e16-498f-a0a4-ed82fe6a8afb",
   "metadata": {},
   "source": [
    "# problem:1"
   ]
  },
  {
   "cell_type": "code",
   "execution_count": 5,
   "id": "90c6479e-57ab-41d9-b8e5-8cc269411319",
   "metadata": {},
   "outputs": [],
   "source": [
    "cost_of_bag = 1.25\n",
    "profit_margin = .2\n",
    "number_of_bags= 500"
   ]
  },
  {
   "cell_type": "code",
   "execution_count": 9,
   "id": "52c4113b-9eb2-4c1d-9a8d-1fdd06f9e440",
   "metadata": {},
   "outputs": [],
   "source": [
    "profit_per_bag = cost_of_bag*profit_margin\n",
    "Total_profit = profit_per_bag*number_of_bags\n"
   ]
  },
  {
   "cell_type": "code",
   "execution_count": 10,
   "id": "1b6a55e3-670f-4ee5-a8a7-b45bc6bb4799",
   "metadata": {},
   "outputs": [
    {
     "name": "stdout",
     "output_type": "stream",
     "text": [
      "The grocery store makes a profit of $ 125.0\n"
     ]
    }
   ],
   "source": [
    "print(\"The grocery store makes a profit of $\",Total_profit)"
   ]
  },
  {
   "cell_type": "markdown",
   "id": "26254437-c68a-4978-914e-01ce8bc5b445",
   "metadata": {},
   "source": [
    "### updated version"
   ]
  },
  {
   "cell_type": "code",
   "execution_count": 11,
   "id": "40ce2021-63ae-44c0-8c73-d04e97578fdb",
   "metadata": {},
   "outputs": [
    {
     "name": "stdout",
     "output_type": "stream",
     "text": [
      "The grocery store makes a profit of $ 125.0\n"
     ]
    }
   ],
   "source": [
    "# data variables\n",
    "cost_of_bag = 1.25\n",
    "profit_margin = .2\n",
    "number_of_bags= 500\n",
    "\n",
    "# calculations\n",
    "profit_per_bag = cost_of_bag*profit_margin\n",
    "Total_profit = profit_per_bag*number_of_bags\n",
    "\n",
    "# Result\n",
    "print(\"The grocery store makes a profit of $\",Total_profit)"
   ]
  },
  {
   "cell_type": "markdown",
   "id": "cfcd1154-9c06-49c2-8ae8-783048987de9",
   "metadata": {},
   "source": [
    "### multiple assigning"
   ]
  },
  {
   "cell_type": "code",
   "execution_count": 14,
   "id": "da4e56fd-3af7-4c8d-9da9-cceb63a053eb",
   "metadata": {},
   "outputs": [
    {
     "data": {
      "text/plain": [
       "'blue'"
      ]
     },
     "execution_count": 14,
     "metadata": {},
     "output_type": "execute_result"
    }
   ],
   "source": [
    "color1 ,color2, color3 = \"red\", \"blue\" , \"green\"\n",
    "color2"
   ]
  },
  {
   "cell_type": "markdown",
   "id": "c594882c-ac6b-4fec-8ff2-8d36ceff02a6",
   "metadata": {},
   "source": [
    "### assignment chaining"
   ]
  },
  {
   "cell_type": "code",
   "execution_count": 15,
   "id": "e5b79091-3f98-44ae-8f48-d2a5c88624e4",
   "metadata": {},
   "outputs": [],
   "source": [
    "color4 = color5 = color6 = \"purple\""
   ]
  },
  {
   "cell_type": "code",
   "execution_count": 16,
   "id": "12b5207b-ec32-47b9-aef6-28194de0c2bc",
   "metadata": {},
   "outputs": [
    {
     "data": {
      "text/plain": [
       "'purple'"
      ]
     },
     "execution_count": 16,
     "metadata": {},
     "output_type": "execute_result"
    }
   ],
   "source": [
    "color6"
   ]
  },
  {
   "cell_type": "markdown",
   "id": "d1d243ef-4e97-46dd-9362-b4bb6aeb8633",
   "metadata": {},
   "source": [
    "### spilt method"
   ]
  },
  {
   "cell_type": "code",
   "execution_count": 17,
   "id": "a71d9bfe-3eb1-46c3-9a81-bbd2fc8e6fec",
   "metadata": {},
   "outputs": [
    {
     "data": {
      "text/plain": [
       "['sun', 'high', 'yellow', 'fusion']"
      ]
     },
     "execution_count": 17,
     "metadata": {},
     "output_type": "execute_result"
    }
   ],
   "source": [
    "\"sun,high,yellow,fusion\".split(\",\")"
   ]
  },
  {
   "cell_type": "markdown",
   "id": "46cbcb24-5330-4c5f-9869-36bc8f79bab7",
   "metadata": {},
   "source": [
    "### Strip method\n",
    "is used to remove whitespace characters from the beginning and end of a string"
   ]
  },
  {
   "cell_type": "code",
   "execution_count": 18,
   "id": "3067c0af-b5ae-4dff-924e-cbd3e5f0027a",
   "metadata": {},
   "outputs": [],
   "source": [
    "long_line = \"     this is a long line       \""
   ]
  },
  {
   "cell_type": "code",
   "execution_count": 20,
   "id": "858a43aa-947e-4686-abd3-e54694d2e6ad",
   "metadata": {},
   "outputs": [],
   "source": [
    "long_line =long_line.strip()"
   ]
  },
  {
   "cell_type": "code",
   "execution_count": 21,
   "id": "777757dc-aae2-4966-9e8e-ebea6effb915",
   "metadata": {},
   "outputs": [
    {
     "data": {
      "text/plain": [
       "'this is a long line'"
      ]
     },
     "execution_count": 21,
     "metadata": {},
     "output_type": "execute_result"
    }
   ],
   "source": [
    "long_line"
   ]
  },
  {
   "cell_type": "markdown",
   "id": "fb5581d6-ce51-4d02-8e63-64f0ca974423",
   "metadata": {},
   "source": [
    "### Format method "
   ]
  },
  {
   "cell_type": "code",
   "execution_count": 26,
   "id": "cfad6e98-c884-4a72-8e32-03d0f73bd781",
   "metadata": {},
   "outputs": [],
   "source": [
    "# data variables\n",
    "cost_of_bag = 1.25\n",
    "profit_margin = .2\n",
    "number_of_bags= 500\n",
    "\n",
    "# Template output\n",
    "output_template = \"\"\" if grocery store sells ice bags at ${} per bag, with profit margin of{}\n",
    ", then the total profit it makes by selling {} ice bags is $ {}.\"\"\""
   ]
  },
  {
   "cell_type": "code",
   "execution_count": 27,
   "id": "93551aca-d38b-44dc-b7aa-69f55579acf7",
   "metadata": {},
   "outputs": [],
   "source": [
    "profit_per_bag = cost_of_bag*profit_margin\n",
    "Total_profit = profit_per_bag*number_of_bags\n",
    "output_msg =  output_template.format(cost_of_bag, profit_margin*100,number_of_bags,Total_profit )"
   ]
  },
  {
   "cell_type": "code",
   "execution_count": 28,
   "id": "0996ede0-a693-4a34-896f-a9005239a2b3",
   "metadata": {},
   "outputs": [
    {
     "data": {
      "text/plain": [
       "' if grocery store sells ice bags at $1.25 per bag, with profit margin of20.0\\n, then the total profit it makes by selling 500 ice bags is $ 125.0.'"
      ]
     },
     "execution_count": 28,
     "metadata": {},
     "output_type": "execute_result"
    }
   ],
   "source": [
    "output_msg"
   ]
  },
  {
   "cell_type": "markdown",
   "id": "862aeb90-542f-42cd-9f79-7b28c18b2201",
   "metadata": {},
   "source": [
    "# List operations "
   ]
  },
  {
   "cell_type": "code",
   "execution_count": 38,
   "id": "8f60a548-669e-432c-a86c-055558537692",
   "metadata": {},
   "outputs": [],
   "source": [
    "fruits = [\"apple\",\"banana\"]"
   ]
  },
  {
   "cell_type": "code",
   "execution_count": 39,
   "id": "85b70dcf-edc7-4ee1-bc69-40b4a165fcb1",
   "metadata": {},
   "outputs": [],
   "source": [
    "fruits.insert(1,\"mango\")"
   ]
  },
  {
   "cell_type": "code",
   "execution_count": 40,
   "id": "f3731867-79ed-4256-98e3-99d43cd22362",
   "metadata": {},
   "outputs": [
    {
     "data": {
      "text/plain": [
       "['apple', 'mango', 'banana']"
      ]
     },
     "execution_count": 40,
     "metadata": {},
     "output_type": "execute_result"
    }
   ],
   "source": [
    "fruits"
   ]
  },
  {
   "cell_type": "code",
   "execution_count": 41,
   "id": "6cf9abdb-9c79-4659-8977-db7da646d3da",
   "metadata": {},
   "outputs": [],
   "source": [
    "fruits.remove(\"mango\")"
   ]
  },
  {
   "cell_type": "code",
   "execution_count": 42,
   "id": "e4538c0e-62f5-47c1-b544-92eeaa97871b",
   "metadata": {},
   "outputs": [
    {
     "data": {
      "text/plain": [
       "['apple', 'banana']"
      ]
     },
     "execution_count": 42,
     "metadata": {},
     "output_type": "execute_result"
    }
   ],
   "source": [
    "fruits"
   ]
  },
  {
   "cell_type": "code",
   "execution_count": 43,
   "id": "d39708f9-2d2b-46ef-8f6b-a0cab0318aa7",
   "metadata": {},
   "outputs": [
    {
     "data": {
      "text/plain": [
       "'banana'"
      ]
     },
     "execution_count": 43,
     "metadata": {},
     "output_type": "execute_result"
    }
   ],
   "source": [
    "fruits.pop(1)"
   ]
  },
  {
   "cell_type": "code",
   "execution_count": 44,
   "id": "02e9bfee-566c-41a6-8c44-bd41fba4d0f2",
   "metadata": {},
   "outputs": [
    {
     "data": {
      "text/plain": [
       "['apple']"
      ]
     },
     "execution_count": 44,
     "metadata": {},
     "output_type": "execute_result"
    }
   ],
   "source": [
    "fruits"
   ]
  },
  {
   "cell_type": "code",
   "execution_count": 45,
   "id": "2323abef-3a2c-4289-95e8-f25816640376",
   "metadata": {},
   "outputs": [
    {
     "data": {
      "text/plain": [
       "False"
      ]
     },
     "execution_count": 45,
     "metadata": {},
     "output_type": "execute_result"
    }
   ],
   "source": [
    "\"appple\" in fruits"
   ]
  },
  {
   "cell_type": "code",
   "execution_count": 46,
   "id": "f2e98025-bbf6-4a52-8e49-adaf64b47d06",
   "metadata": {},
   "outputs": [],
   "source": [
    "#combing list\n",
    "fruits = [\"apple\",\"banana\"]"
   ]
  },
  {
   "cell_type": "code",
   "execution_count": 47,
   "id": "01cacc99-f01a-4747-b46c-5c92318e0d31",
   "metadata": {},
   "outputs": [],
   "source": [
    "more_fruits = fruits + [\"mango\",\"tomato\"]+[\"dates\",\"cherry\"]"
   ]
  },
  {
   "cell_type": "code",
   "execution_count": 48,
   "id": "f83ae2d2-6592-40ed-bd2e-68c517f1fea6",
   "metadata": {},
   "outputs": [
    {
     "data": {
      "text/plain": [
       "['apple', 'banana', 'mango', 'tomato', 'dates', 'cherry']"
      ]
     },
     "execution_count": 48,
     "metadata": {},
     "output_type": "execute_result"
    }
   ],
   "source": [
    "more_fruits"
   ]
  },
  {
   "cell_type": "code",
   "execution_count": 50,
   "id": "95b671ae-5fa1-4bde-9b07-05d3388f8984",
   "metadata": {},
   "outputs": [],
   "source": [
    "more_fruit_copy = more_fruits.copy()"
   ]
  },
  {
   "cell_type": "code",
   "execution_count": 52,
   "id": "462ae367-4281-4413-8804-ccfc72ed1230",
   "metadata": {},
   "outputs": [
    {
     "data": {
      "text/plain": [
       "['apple', 'banana', 'mango', 'tomato', 'dates', 'cherry']"
      ]
     },
     "execution_count": 52,
     "metadata": {},
     "output_type": "execute_result"
    }
   ],
   "source": [
    "more_fruit_copy"
   ]
  },
  {
   "cell_type": "code",
   "execution_count": 53,
   "id": "795e490d-522e-4865-9e1d-e796d9bba600",
   "metadata": {},
   "outputs": [],
   "source": [
    "more_fruit_copy.remove(\"banana\")"
   ]
  },
  {
   "cell_type": "code",
   "execution_count": 55,
   "id": "d6ab3eb5-0d92-460e-9f03-8bb7e6b0d165",
   "metadata": {},
   "outputs": [
    {
     "data": {
      "text/plain": [
       "['apple', 'banana', 'mango', 'tomato', 'dates', 'cherry']"
      ]
     },
     "execution_count": 55,
     "metadata": {},
     "output_type": "execute_result"
    }
   ],
   "source": [
    "more_fruits"
   ]
  },
  {
   "cell_type": "code",
   "execution_count": 56,
   "id": "cc659d57-3016-4eb2-8496-b0205ab788ee",
   "metadata": {},
   "outputs": [
    {
     "data": {
      "text/plain": [
       "['apple', 'mango', 'tomato', 'dates', 'cherry']"
      ]
     },
     "execution_count": 56,
     "metadata": {},
     "output_type": "execute_result"
    }
   ],
   "source": [
    "more_fruit_copy"
   ]
  },
  {
   "cell_type": "code",
   "execution_count": 61,
   "id": "4fe650ec-eb5f-4347-b206-5891f2d7c79c",
   "metadata": {},
   "outputs": [],
   "source": [
    "deep_fruits = more_fruits"
   ]
  },
  {
   "cell_type": "code",
   "execution_count": 62,
   "id": "99ba5611-8802-46c8-af9e-193c01f3ce5f",
   "metadata": {},
   "outputs": [],
   "source": [
    "deep_fruits.remove('apple')"
   ]
  },
  {
   "cell_type": "code",
   "execution_count": 63,
   "id": "0fe3eb27-8863-4118-821e-4797a12dbf29",
   "metadata": {},
   "outputs": [
    {
     "data": {
      "text/plain": [
       "['banana', 'mango', 'tomato', 'dates', 'cherry']"
      ]
     },
     "execution_count": 63,
     "metadata": {},
     "output_type": "execute_result"
    }
   ],
   "source": [
    "more_fruits"
   ]
  },
  {
   "cell_type": "markdown",
   "id": "63649e61-8480-4d35-9ecd-e80d9ba595e2",
   "metadata": {},
   "source": [
    "### 1. Reverse the order of elements in a list"
   ]
  },
  {
   "cell_type": "code",
   "execution_count": 67,
   "id": "bc088b61-3f40-4dd6-8425-784aee0cf1bc",
   "metadata": {},
   "outputs": [
    {
     "data": {
      "text/plain": [
       "[4, 3, 2, 1]"
      ]
     },
     "execution_count": 67,
     "metadata": {},
     "output_type": "execute_result"
    }
   ],
   "source": [
    "my_list = [1,2,3,4]\n",
    "my_list.reverse()\n",
    "my_list"
   ]
  },
  {
   "cell_type": "markdown",
   "id": "9880c7a9-cea8-464e-86df-852faecca9a1",
   "metadata": {},
   "source": [
    "### 2. Add elements of one list to the end of another"
   ]
  },
  {
   "cell_type": "code",
   "execution_count": 69,
   "id": "e9a8c45c-069f-48ee-b3a4-e61c17412b06",
   "metadata": {},
   "outputs": [
    {
     "name": "stdout",
     "output_type": "stream",
     "text": [
      "['apple', 'banana', 'mango', 'grapes']\n"
     ]
    }
   ],
   "source": [
    "list1 = ['apple', 'banana']\n",
    "list2 = ['mango', 'grapes']\n",
    "\n",
    "list1.extend(list2)\n",
    "print(list1)"
   ]
  },
  {
   "cell_type": "markdown",
   "id": "5d6b0095-c24a-4f71-ace6-80f158c4b51c",
   "metadata": {},
   "source": [
    "### 3. Sort a list of strings in alphabetical order"
   ]
  },
  {
   "cell_type": "code",
   "execution_count": 70,
   "id": "1cb5c4a9-31db-40f4-aaa2-79c5872dc963",
   "metadata": {},
   "outputs": [
    {
     "data": {
      "text/plain": [
       "['apple', 'banana', 'cherry', 'mango']"
      ]
     },
     "execution_count": 70,
     "metadata": {},
     "output_type": "execute_result"
    }
   ],
   "source": [
    "fruits = ['banana', 'apple', 'mango', 'cherry']\n",
    "fruits.sort()\n",
    "fruits"
   ]
  },
  {
   "cell_type": "markdown",
   "id": "130c5499-68e0-4ae2-ace4-9643457cadd2",
   "metadata": {},
   "source": [
    "### 4. Sort a list of numbers in decreasing order"
   ]
  },
  {
   "cell_type": "code",
   "execution_count": 72,
   "id": "7dd1d9b5-afbc-4752-b36e-fc22527b7bd0",
   "metadata": {},
   "outputs": [
    {
     "name": "stdout",
     "output_type": "stream",
     "text": [
      "[9, 7, 4, 2, 1]\n"
     ]
    }
   ],
   "source": [
    "numbers = [4, 1, 9, 2, 7]\n",
    "numbers.sort(reverse=True)\n",
    "\n",
    "print(numbers)"
   ]
  },
  {
   "cell_type": "code",
   "execution_count": null,
   "id": "d86d9cb4-6bf6-492d-9e86-df14bbcc5c62",
   "metadata": {},
   "outputs": [],
   "source": []
  }
 ],
 "metadata": {
  "kernelspec": {
   "display_name": "Python 3 (ipykernel)",
   "language": "python",
   "name": "python3"
  },
  "language_info": {
   "codemirror_mode": {
    "name": "ipython",
    "version": 3
   },
   "file_extension": ".py",
   "mimetype": "text/x-python",
   "name": "python",
   "nbconvert_exporter": "python",
   "pygments_lexer": "ipython3",
   "version": "3.12.7"
  }
 },
 "nbformat": 4,
 "nbformat_minor": 5
}
