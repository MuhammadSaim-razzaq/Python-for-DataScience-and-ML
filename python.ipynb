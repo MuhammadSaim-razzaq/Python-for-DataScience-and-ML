{
 "cells": [
  {
   "cell_type": "markdown",
   "id": "52d47d7d-a9f8-4e67-8b1f-180f0c2d7621",
   "metadata": {},
   "source": [
    "# Python Basics"
   ]
  },
  {
   "cell_type": "markdown",
   "id": "938c050b-0e16-498f-a0a4-ed82fe6a8afb",
   "metadata": {},
   "source": [
    "# problem:1"
   ]
  },
  {
   "cell_type": "code",
   "execution_count": 5,
   "id": "90c6479e-57ab-41d9-b8e5-8cc269411319",
   "metadata": {},
   "outputs": [],
   "source": [
    "cost_of_bag = 1.25\n",
    "profit_margin = .2\n",
    "number_of_bags= 500"
   ]
  },
  {
   "cell_type": "code",
   "execution_count": 9,
   "id": "52c4113b-9eb2-4c1d-9a8d-1fdd06f9e440",
   "metadata": {},
   "outputs": [],
   "source": [
    "profit_per_bag = cost_of_bag*profit_margin\n",
    "Total_profit = profit_per_bag*number_of_bags\n"
   ]
  },
  {
   "cell_type": "code",
   "execution_count": 10,
   "id": "1b6a55e3-670f-4ee5-a8a7-b45bc6bb4799",
   "metadata": {},
   "outputs": [
    {
     "name": "stdout",
     "output_type": "stream",
     "text": [
      "The grocery store makes a profit of $ 125.0\n"
     ]
    }
   ],
   "source": [
    "print(\"The grocery store makes a profit of $\",Total_profit)"
   ]
  },
  {
   "cell_type": "markdown",
   "id": "26254437-c68a-4978-914e-01ce8bc5b445",
   "metadata": {},
   "source": [
    "### updated version"
   ]
  },
  {
   "cell_type": "code",
   "execution_count": 11,
   "id": "40ce2021-63ae-44c0-8c73-d04e97578fdb",
   "metadata": {},
   "outputs": [
    {
     "name": "stdout",
     "output_type": "stream",
     "text": [
      "The grocery store makes a profit of $ 125.0\n"
     ]
    }
   ],
   "source": [
    "# data variables\n",
    "cost_of_bag = 1.25\n",
    "profit_margin = .2\n",
    "number_of_bags= 500\n",
    "\n",
    "# calculations\n",
    "profit_per_bag = cost_of_bag*profit_margin\n",
    "Total_profit = profit_per_bag*number_of_bags\n",
    "\n",
    "# Result\n",
    "print(\"The grocery store makes a profit of $\",Total_profit)"
   ]
  },
  {
   "cell_type": "code",
   "execution_count": null,
   "id": "5fef6961-22e9-4aae-a679-9be3f5ead301",
   "metadata": {},
   "outputs": [],
   "source": []
  }
 ],
 "metadata": {
  "kernelspec": {
   "display_name": "Python 3 (ipykernel)",
   "language": "python",
   "name": "python3"
  },
  "language_info": {
   "codemirror_mode": {
    "name": "ipython",
    "version": 3
   },
   "file_extension": ".py",
   "mimetype": "text/x-python",
   "name": "python",
   "nbconvert_exporter": "python",
   "pygments_lexer": "ipython3",
   "version": "3.12.7"
  }
 },
 "nbformat": 4,
 "nbformat_minor": 5
}
