{
 "cells": [
  {
   "cell_type": "markdown",
   "id": "536299b2-a03d-4543-b691-837b4113f996",
   "metadata": {},
   "source": [
    "# Tuple"
   ]
  },
  {
   "cell_type": "code",
   "execution_count": 3,
   "id": "e3b97025-5a94-47ed-a47b-0b8d1b89b10c",
   "metadata": {},
   "outputs": [
    {
     "data": {
      "text/plain": [
       "(1, 2, 3, 4)"
      ]
     },
     "execution_count": 3,
     "metadata": {},
     "output_type": "execute_result"
    }
   ],
   "source": [
    "new_tuple = 1,2,3,4\n",
    "new_tuple"
   ]
  },
  {
   "cell_type": "code",
   "execution_count": 4,
   "id": "b894a9d2-8d2b-44c7-81e2-145d00de6550",
   "metadata": {},
   "outputs": [
    {
     "data": {
      "text/plain": [
       "(1, 2, 3, 4)"
      ]
     },
     "execution_count": 4,
     "metadata": {},
     "output_type": "execute_result"
    }
   ],
   "source": [
    "new_tuple_1 = (1,2,3,4)\n",
    "new_tuple_1"
   ]
  },
  {
   "cell_type": "code",
   "execution_count": 5,
   "id": "585c8a1e-7b2e-497c-800a-05b5006d441b",
   "metadata": {},
   "outputs": [
    {
     "data": {
      "text/plain": [
       "(1, 2, 3, 4)"
      ]
     },
     "execution_count": 5,
     "metadata": {},
     "output_type": "execute_result"
    }
   ],
   "source": [
    "# Convert a list to a tuple\n",
    "this_list = [1,2,3,4]\n",
    "this_tuple = tuple(this_list)\n",
    "this_tuple"
   ]
  },
  {
   "cell_type": "code",
   "execution_count": 7,
   "id": "0f7f854b-9f49-4496-b422-24fc865c3829",
   "metadata": {},
   "outputs": [
    {
     "data": {
      "text/plain": [
       "[1, 2, 3, 4]"
      ]
     },
     "execution_count": 7,
     "metadata": {},
     "output_type": "execute_result"
    }
   ],
   "source": [
    "# Convert a tuple into list\n",
    "my_tuple = 1,2,3,4\n",
    "my_list = list(my_tuple)\n",
    "my_list"
   ]
  },
  {
   "cell_type": "code",
   "execution_count": 9,
   "id": "1b17d28b-640b-4cf7-b312-c9d2b7f735b5",
   "metadata": {},
   "outputs": [
    {
     "data": {
      "text/plain": [
       "(1, 2, 3)"
      ]
     },
     "execution_count": 9,
     "metadata": {},
     "output_type": "execute_result"
    }
   ],
   "source": [
    "# Using * unpacking\n",
    "my_list = [1, 2, 3]\n",
    "my_tuple = (*my_list,)\n",
    "my_tuple"
   ]
  },
  {
   "cell_type": "code",
   "execution_count": 11,
   "id": "63577e7f-6b03-4f0c-936b-fd986ed2b4d1",
   "metadata": {},
   "outputs": [
    {
     "data": {
      "text/plain": [
       "[1, 2, 3, 4]"
      ]
     },
     "execution_count": 11,
     "metadata": {},
     "output_type": "execute_result"
    }
   ],
   "source": [
    "my_tuple = 1,2,3,4\n",
    "my_list = [*my_tuple]\n",
    "my_list"
   ]
  },
  {
   "cell_type": "code",
   "execution_count": 12,
   "id": "275ffd41-0fbe-48d5-baf3-6b67564f6845",
   "metadata": {},
   "outputs": [],
   "source": [
    "# 👉 When to use:\n",
    "# Most common and clear method. Use when you just want a tuple copy of a list without any change.\n",
    "\n",
    "# Example:\n",
    "data = ['apple', 'banana', 'cherry']\n",
    "immutable_data = tuple(data)\n",
    "# Good when you want to freeze a list so it can't be changed\n"
   ]
  },
  {
   "cell_type": "code",
   "execution_count": 13,
   "id": "273f8286-83fb-449a-bc8d-bb70152549de",
   "metadata": {},
   "outputs": [],
   "source": [
    "# * unpacking\n",
    "# 👉 When to use:\n",
    "# When you want to create a new tuple or list by combining multiple sequences at once.\n",
    "\n",
    "# Example (list ➜ tuple):\n",
    "list1 = [1, 2]\n",
    "list2 = [3, 4]\n",
    "result = (*list1, *list2)\n",
    "# result = (1, 2, 3, 4)\n",
    "\n",
    "# Example (tuple ➜ list):\n",
    "\n",
    "tuple1 = (1, 2)\n",
    "tuple2 = (3, 4)\n",
    "result = [*tuple1, *tuple2]\n",
    "# result = [1, 2, 3, 4]"
   ]
  },
  {
   "cell_type": "code",
   "execution_count": 17,
   "id": "f3aa3865-92e6-481e-8e73-ceac8f6840a2",
   "metadata": {},
   "outputs": [
    {
     "data": {
      "text/plain": [
       "(5, 5, 2)"
      ]
     },
     "execution_count": 17,
     "metadata": {},
     "output_type": "execute_result"
    }
   ],
   "source": [
    "# tuple() with generator expression\n",
    "# 👉 When to use:\n",
    "# When you want to transform items while converting.\n",
    "\n",
    "# Example:\n",
    "\n",
    "word_list = ['Hello', 'World','Ho']\n",
    "word_tuple = tuple(len(word) for word in word_list)\n",
    "word_tuple"
   ]
  },
  {
   "cell_type": "code",
   "execution_count": 24,
   "id": "df4f231f-918d-48ce-9852-7cfdf17b8291",
   "metadata": {},
   "outputs": [
    {
     "data": {
      "text/plain": [
       "[2, 4]"
      ]
     },
     "execution_count": 24,
     "metadata": {},
     "output_type": "execute_result"
    }
   ],
   "source": [
    "# List comprehension\n",
    "# 👉 When to use:\n",
    "# When you need to filter or transform during tuple ➜ list conversion.\n",
    "\n",
    "#[new_item  for item in sequence  if condition]\n",
    "# Example:\n",
    "numbers = (1, 2, 3, 4)\n",
    "squared_numbers = list(x for x in numbers if x%2 == 0)\n",
    "squared_numbers"
   ]
  },
  {
   "cell_type": "code",
   "execution_count": null,
   "id": "5e36ca99-7f15-4fd1-ae24-73a0f632e3da",
   "metadata": {},
   "outputs": [],
   "source": []
  }
 ],
 "metadata": {
  "kernelspec": {
   "display_name": "Python 3 (ipykernel)",
   "language": "python",
   "name": "python3"
  },
  "language_info": {
   "codemirror_mode": {
    "name": "ipython",
    "version": 3
   },
   "file_extension": ".py",
   "mimetype": "text/x-python",
   "name": "python",
   "nbconvert_exporter": "python",
   "pygments_lexer": "ipython3",
   "version": "3.12.7"
  }
 },
 "nbformat": 4,
 "nbformat_minor": 5
}
